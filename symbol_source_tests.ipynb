{
 "cells": [
  {
   "cell_type": "markdown",
   "id": "35e5ceff",
   "metadata": {},
   "source": [
    "# Currency Futures Strategy Backtest Notebook\n",
    "\n",
    "This notebook lets you load trade signals and run backtests using the defined strategies."
   ]
  },
  {
   "cell_type": "code",
   "execution_count": 1,
   "id": "38fb6fbf",
   "metadata": {},
   "outputs": [],
   "source": [
    "import pandas as pd\n",
    "from datetime import datetime, timedelta\n",
    "import json\n",
    "import yfinance as yf\n",
    "import alpha_vantage\n",
    "\n",
    "# Alpha Vantage free API key\n",
    "AV_API_KEY = 'QFOII0LF9WFDKWX3'"
   ]
  },
  {
   "cell_type": "code",
   "execution_count": 4,
   "id": "a881cd41-a05b-4375-a217-33b4d0432070",
   "metadata": {},
   "outputs": [
    {
     "name": "stdout",
     "output_type": "stream",
     "text": [
      "            1. open  2. high   3. low  4. close\n",
      "date                                           \n",
      "2025-05-23  1.12803  1.13757  1.12785   1.13600\n",
      "2025-05-22  1.13282  1.13450  1.12555   1.12791\n",
      "2025-05-21  1.12823  1.13628  1.12787   1.13281\n",
      "2025-05-20  1.12433  1.12858  1.12177   1.12822\n",
      "2025-05-19  1.11737  1.12881  1.11711   1.12431\n"
     ]
    }
   ],
   "source": [
    "# Using Alpha Trading\n",
    "from alpha_vantage.foreignexchange import ForeignExchange\n",
    "fx = ForeignExchange(key=AV_API_KEY, output_format='pandas')\n",
    "\n",
    "data, meta = fx.get_currency_exchange_daily(from_symbol='EUR', to_symbol='USD')\n",
    "print(data.head())\n"
   ]
  },
  {
   "cell_type": "code",
   "execution_count": 2,
   "id": "fa819f4a-0f7f-42f8-a01f-c99830ae305c",
   "metadata": {},
   "outputs": [
    {
     "name": "stderr",
     "output_type": "stream",
     "text": [
      "Failed to get ticker 'FXA=F' reason: Expecting value: line 1 column 1 (char 0)\n",
      "[*********************100%%**********************]  1 of 1 completed\n",
      "\n",
      "1 Failed download:\n",
      "['FXA=F']: JSONDecodeError('Expecting value: line 1 column 1 (char 0)')\n"
     ]
    },
    {
     "data": {
      "text/html": [
       "<div>\n",
       "<style scoped>\n",
       "    .dataframe tbody tr th:only-of-type {\n",
       "        vertical-align: middle;\n",
       "    }\n",
       "\n",
       "    .dataframe tbody tr th {\n",
       "        vertical-align: top;\n",
       "    }\n",
       "\n",
       "    .dataframe thead th {\n",
       "        text-align: right;\n",
       "    }\n",
       "</style>\n",
       "<table border=\"1\" class=\"dataframe\">\n",
       "  <thead>\n",
       "    <tr style=\"text-align: right;\">\n",
       "      <th></th>\n",
       "      <th>Open</th>\n",
       "      <th>High</th>\n",
       "      <th>Low</th>\n",
       "      <th>Close</th>\n",
       "      <th>Adj Close</th>\n",
       "      <th>Volume</th>\n",
       "    </tr>\n",
       "    <tr>\n",
       "      <th>Date</th>\n",
       "      <th></th>\n",
       "      <th></th>\n",
       "      <th></th>\n",
       "      <th></th>\n",
       "      <th></th>\n",
       "      <th></th>\n",
       "    </tr>\n",
       "  </thead>\n",
       "  <tbody>\n",
       "  </tbody>\n",
       "</table>\n",
       "</div>"
      ],
      "text/plain": [
       "Empty DataFrame\n",
       "Columns: [Open, High, Low, Close, Adj Close, Volume]\n",
       "Index: []"
      ]
     },
     "execution_count": 2,
     "metadata": {},
     "output_type": "execute_result"
    }
   ],
   "source": [
    "# yf.download(\"6A=F\", period=\"5d\", interval=\"1d\")\n",
    "yf.download(\"FXA=F\", period=\"5d\", interval=\"1d\")"
   ]
  },
  {
   "cell_type": "code",
   "execution_count": null,
   "id": "60745a46-d7b2-4e5f-99af-f4fe1bbf04de",
   "metadata": {},
   "outputs": [],
   "source": []
  },
  {
   "cell_type": "code",
   "execution_count": 6,
   "id": "f48eea1a-9505-4246-9738-d7c942b02b62",
   "metadata": {},
   "outputs": [
    {
     "name": "stderr",
     "output_type": "stream",
     "text": [
      "[*********************100%%**********************]  1 of 1 completed\n",
      "\n",
      "1 Failed download:\n",
      "['XME']: JSONDecodeError('Expecting value: line 1 column 1 (char 0)')\n"
     ]
    },
    {
     "name": "stdout",
     "output_type": "stream",
     "text": [
      "Error: 'DataFrame' object is not callable. Retrying in 1 seconds (attempt 1).\n",
      "Error: 'DataFrame' object is not callable. Retrying in 2 seconds (attempt 2).\n",
      "Error: 'DataFrame' object is not callable. Retrying in 4 seconds (attempt 3).\n",
      "Error: 'DataFrame' object is not callable. Retrying in 8 seconds (attempt 4).\n",
      "Error: 'DataFrame' object is not callable. Retrying in 16 seconds (attempt 5).\n"
     ]
    },
    {
     "ename": "KeyboardInterrupt",
     "evalue": "",
     "output_type": "error",
     "traceback": [
      "\u001b[0;31m---------------------------------------------------------------------------\u001b[0m",
      "\u001b[0;31mTypeError\u001b[0m                                 Traceback (most recent call last)",
      "Cell \u001b[0;32mIn[6], line 20\u001b[0m, in \u001b[0;36mretry_with_backoff\u001b[0;34m(func, max_retries, initial_delay, multiplier, *args)\u001b[0m\n\u001b[1;32m     19\u001b[0m \u001b[38;5;28;01mtry\u001b[39;00m:\n\u001b[0;32m---> 20\u001b[0m     \u001b[38;5;28;01mreturn\u001b[39;00m \u001b[43mfunc\u001b[49m\u001b[43m(\u001b[49m\u001b[38;5;241;43m*\u001b[39;49m\u001b[43margs\u001b[49m\u001b[43m)\u001b[49m\n\u001b[1;32m     21\u001b[0m \u001b[38;5;28;01mexcept\u001b[39;00m \u001b[38;5;167;01mException\u001b[39;00m \u001b[38;5;28;01mas\u001b[39;00m e:  \u001b[38;5;66;03m# Catch the specific error, if needed\u001b[39;00m\n",
      "\u001b[0;31mTypeError\u001b[0m: 'DataFrame' object is not callable",
      "\nDuring handling of the above exception, another exception occurred:\n",
      "\u001b[0;31mKeyboardInterrupt\u001b[0m                         Traceback (most recent call last)",
      "Cell \u001b[0;32mIn[6], line 29\u001b[0m\n\u001b[1;32m     25\u001b[0m     \u001b[38;5;28;01mraise\u001b[39;00m \u001b[38;5;167;01mException\u001b[39;00m(\u001b[38;5;124mf\u001b[39m\u001b[38;5;124m\"\u001b[39m\u001b[38;5;124mFailed to execute after \u001b[39m\u001b[38;5;132;01m{\u001b[39;00mmax_retries\u001b[38;5;132;01m}\u001b[39;00m\u001b[38;5;124m retries\u001b[39m\u001b[38;5;124m\"\u001b[39m)\n\u001b[1;32m     27\u001b[0m \u001b[38;5;66;03m# ... call your function to fetch data ...\u001b[39;00m\n\u001b[1;32m     28\u001b[0m \u001b[38;5;66;03m# stock_data = retry_with_backoff(yf.Ticker(\"AAPL\").history, period=\"1d\") \u001b[39;00m\n\u001b[0;32m---> 29\u001b[0m stock_data \u001b[38;5;241m=\u001b[39m \u001b[43mretry_with_backoff\u001b[49m\u001b[43m(\u001b[49m\u001b[43myf\u001b[49m\u001b[38;5;241;43m.\u001b[39;49m\u001b[43mdownload\u001b[49m\u001b[43m(\u001b[49m\u001b[43mticker\u001b[49m\u001b[43m,\u001b[49m\u001b[43m \u001b[49m\u001b[43mstart\u001b[49m\u001b[38;5;241;43m=\u001b[39;49m\u001b[38;5;124;43m\"\u001b[39;49m\u001b[38;5;124;43m2023-01-01\u001b[39;49m\u001b[38;5;124;43m\"\u001b[39;49m\u001b[43m,\u001b[49m\u001b[43m \u001b[49m\u001b[43mend\u001b[49m\u001b[38;5;241;43m=\u001b[39;49m\u001b[38;5;124;43m\"\u001b[39;49m\u001b[38;5;124;43m2024-12-31\u001b[39;49m\u001b[38;5;124;43m\"\u001b[39;49m\u001b[43m)\u001b[49m\u001b[43m)\u001b[49m \n\u001b[1;32m     31\u001b[0m \u001b[38;5;66;03m# # Download historical data\u001b[39;00m\n\u001b[1;32m     32\u001b[0m \u001b[38;5;66;03m# data = yf.download(ticker, start=\"2023-01-01\", end=\"2024-12-31\")\u001b[39;00m\n",
      "Cell \u001b[0;32mIn[6], line 23\u001b[0m, in \u001b[0;36mretry_with_backoff\u001b[0;34m(func, max_retries, initial_delay, multiplier, *args)\u001b[0m\n\u001b[1;32m     21\u001b[0m     \u001b[38;5;28;01mexcept\u001b[39;00m \u001b[38;5;167;01mException\u001b[39;00m \u001b[38;5;28;01mas\u001b[39;00m e:  \u001b[38;5;66;03m# Catch the specific error, if needed\u001b[39;00m\n\u001b[1;32m     22\u001b[0m         \u001b[38;5;28mprint\u001b[39m(\u001b[38;5;124mf\u001b[39m\u001b[38;5;124m\"\u001b[39m\u001b[38;5;124mError: \u001b[39m\u001b[38;5;132;01m{\u001b[39;00me\u001b[38;5;132;01m}\u001b[39;00m\u001b[38;5;124m. Retrying in \u001b[39m\u001b[38;5;132;01m{\u001b[39;00mdelay\u001b[38;5;132;01m}\u001b[39;00m\u001b[38;5;124m seconds (attempt \u001b[39m\u001b[38;5;132;01m{\u001b[39;00mi\u001b[38;5;241m+\u001b[39m\u001b[38;5;241m1\u001b[39m\u001b[38;5;132;01m}\u001b[39;00m\u001b[38;5;124m).\u001b[39m\u001b[38;5;124m\"\u001b[39m)\n\u001b[0;32m---> 23\u001b[0m         \u001b[43mtime\u001b[49m\u001b[38;5;241;43m.\u001b[39;49m\u001b[43msleep\u001b[49m\u001b[43m(\u001b[49m\u001b[43mdelay\u001b[49m\u001b[43m)\u001b[49m\n\u001b[1;32m     24\u001b[0m         delay \u001b[38;5;241m*\u001b[39m\u001b[38;5;241m=\u001b[39m multiplier\n\u001b[1;32m     25\u001b[0m \u001b[38;5;28;01mraise\u001b[39;00m \u001b[38;5;167;01mException\u001b[39;00m(\u001b[38;5;124mf\u001b[39m\u001b[38;5;124m\"\u001b[39m\u001b[38;5;124mFailed to execute after \u001b[39m\u001b[38;5;132;01m{\u001b[39;00mmax_retries\u001b[38;5;132;01m}\u001b[39;00m\u001b[38;5;124m retries\u001b[39m\u001b[38;5;124m\"\u001b[39m)\n",
      "\u001b[0;31mKeyboardInterrupt\u001b[0m: "
     ]
    }
   ],
   "source": [
    "# yf.get_futures()  # doesnt work\n",
    "# here's a list of tickers: https://finance.yahoo.com/markets/commodities/\n",
    "# Define the currency futures ticker (e.g., USD/JPY)\n",
    "# yf.enable_debug_mode()\n",
    "# EURUSD=X\n",
    "ticker = \"XME\"  # Note: This is a sample ticker, you may need to find the correct one\n",
    "\n",
    "# dat = yf.Ticker(ticker)\n",
    "# tz = dat._fetch_ticker_tz(proxy=None, timeout=30)\n",
    "# print(tz)\n",
    "# valid = yf.utils.is_valid_timezone(tz)\n",
    "# print(f\"{ticker}: tz='{tz}', valid={valid}\")\n",
    "\n",
    "# Implement exponential backoff\n",
    "import time\n",
    "def retry_with_backoff(func, *args, max_retries=5, initial_delay=1, multiplier=2):\n",
    "    delay = initial_delay\n",
    "    for i in range(max_retries + 1):\n",
    "        try:\n",
    "            return func(*args)\n",
    "        except Exception as e:  # Catch the specific error, if needed\n",
    "            print(f\"Error: {e}. Retrying in {delay} seconds (attempt {i+1}).\")\n",
    "            time.sleep(delay)\n",
    "            delay *= multiplier\n",
    "    raise Exception(f\"Failed to execute after {max_retries} retries\")\n",
    "\n",
    "# ... call your function to fetch data ...\n",
    "# stock_data = retry_with_backoff(yf.Ticker(\"AAPL\").history, period=\"1d\") \n",
    "stock_data = retry_with_backoff(yf.download(ticker, start=\"2023-01-01\", end=\"2024-12-31\")) \n",
    "\n",
    "# # Download historical data\n",
    "# data = yf.download(ticker, start=\"2023-01-01\", end=\"2024-12-31\")"
   ]
  },
  {
   "cell_type": "code",
   "execution_count": null,
   "id": "0d859e21-70de-433e-957f-0d5c4dd04cee",
   "metadata": {},
   "outputs": [],
   "source": []
  }
 ],
 "metadata": {
  "kernelspec": {
   "display_name": "Python 3 (ipykernel)",
   "language": "python",
   "name": "python3"
  },
  "language_info": {
   "codemirror_mode": {
    "name": "ipython",
    "version": 3
   },
   "file_extension": ".py",
   "mimetype": "text/x-python",
   "name": "python",
   "nbconvert_exporter": "python",
   "pygments_lexer": "ipython3",
   "version": "3.11.7"
  }
 },
 "nbformat": 4,
 "nbformat_minor": 5
}
