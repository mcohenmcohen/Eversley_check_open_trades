{
 "cells": [
  {
   "cell_type": "markdown",
   "id": "d333b894",
   "metadata": {},
   "source": [
    "# Currency Futures Strategy Backtest Notebook\n",
    "\n",
    "This notebook loads local daily OHLC files and runs backtests for each symbol/date/strategy combo."
   ]
  },
  {
   "cell_type": "code",
   "execution_count": null,
   "id": "1cd5648f",
   "metadata": {},
   "outputs": [],
   "source": [
    "import pandas as pd\n",
    "from datetime import datetime, timedelta\n",
    "import json\n",
    "from pathlib import Path\n",
    "from currency_strategy_backtester import (\n",
    "    load_strategies,\n",
    "    fetch_price_data,\n",
    "    simulate_trade,\n",
    "    resolve_strategy_name\n",
    ")"
   ]
  },
  {
   "cell_type": "code",
   "execution_count": null,
   "id": "9b415738",
   "metadata": {},
   "outputs": [],
   "source": [
    "# Load trade signals\n",
    "signals_df = pd.read_csv(\"trade_signals.csv\")\n",
    "signals_df.head()\n"
   ]
  },
  {
   "cell_type": "code",
   "execution_count": null,
   "id": "9c6a141d",
   "metadata": {},
   "outputs": [],
   "source": [
    "# Load strategy definitions\n",
    "strategies = load_strategies(\"strategies_complete.json\")\n",
    "list(strategies.keys())\n"
   ]
  },
  {
   "cell_type": "code",
   "execution_count": null,
   "id": "f595d3f9",
   "metadata": {},
   "outputs": [],
   "source": [
    "# Backtest using local CSVs from ./data/\n",
    "results = []\n",
    "\n",
    "for _, row in signals_df.iterrows():\n",
    "    symbol = row[\"symbol\"]\n",
    "    raw_name = row[\"strategy\"]\n",
    "    try:\n",
    "        signal_date = pd.to_datetime(row[\"date\"], format='%m/%d/%y')\n",
    "    except ValueError:\n",
    "        print(f\"❌ Invalid date format: {row['date']}\")\n",
    "        continue\n",
    "\n",
    "    alternate_symbols = {\"AD\": \"6A\", \"BP\": \"6B\", \"CD\": \"6C\", \"EC\": \"6E\", \"SF\": \"6S\"}\n",
    "    if symbol in alternate_symbols:\n",
    "        symbol = alternate_symbols[symbol]\n",
    "\n",
    "    resolved_name = resolve_strategy_name(raw_name, list(strategies.keys()))\n",
    "    if not resolved_name:\n",
    "        print(f\"⚠️ Could not resolve strategy name: '{raw_name}'\")\n",
    "        continue\n",
    "\n",
    "    # Attempt to load from ./data/ folder\n",
    "    local_path = Path(f\"data/{symbol}.csv\")\n",
    "    if not local_path.exists():\n",
    "        print(f\"⚠️ No local CSV found for {symbol}\")\n",
    "        continue\n",
    "\n",
    "    try:\n",
    "        df = pd.read_csv(local_path)\n",
    "        df[\"Date\"] = pd.to_datetime(df[\"Date\"], format=\"%Y%m%d\")\n",
    "        df.set_index(\"Date\", inplace=True)\n",
    "        df = df[[\"Open\", \"High\", \"Low\", \"Close\", \"Volume\"]]\n",
    "        df = df.loc[(df.index >= signal_date - timedelta(days=10)) & (df.index <= datetime.today())]\n",
    "    except Exception as e:\n",
    "        print(f\"❌ Failed to parse CSV for {symbol}: {e}\")\n",
    "        continue\n",
    "\n",
    "    result = simulate_trade(strategies[resolved_name], symbol, df, signal_date)\n",
    "    results.append({\n",
    "        \"symbol\": symbol,\n",
    "        \"strategy\": resolved_name,\n",
    "        \"signal_date\": signal_date.strftime('%m/%d/%y'),\n",
    "        \"status\": result[\"status\"],\n",
    "        \"entry_date\": result.get(\"entry_date\", \"\"),\n",
    "        \"exit_date\": result.get(\"exit_date\", \"\")\n",
    "    })\n",
    "\n",
    "results_df = pd.DataFrame(results)\n",
    "results_df.head()\n"
   ]
  },
  {
   "cell_type": "code",
   "execution_count": null,
   "id": "44820d74",
   "metadata": {},
   "outputs": [],
   "source": [
    "# Save results\n",
    "results_df.to_csv(\"trade_results.csv\", index=False)\n",
    "print(\"✅ Results saved to trade_results.csv\")\n"
   ]
  }
 ],
 "metadata": {},
 "nbformat": 4,
 "nbformat_minor": 5
}