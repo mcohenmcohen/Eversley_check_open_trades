{
 "cells": [
  {
   "cell_type": "code",
   "execution_count": 4,
   "id": "b94886c8-c4f5-460e-b5e5-a612de506b85",
   "metadata": {},
   "outputs": [],
   "source": [
    "import utilities as ut\n",
    "from datetime import datetime"
   ]
  },
  {
   "cell_type": "code",
   "execution_count": 5,
   "id": "38e60019-f7a9-4831-a1c4-1fa584ac6d42",
   "metadata": {},
   "outputs": [
    {
     "data": {
      "text/plain": [
       "datetime.date(2025, 4, 17)"
      ]
     },
     "execution_count": 5,
     "metadata": {},
     "output_type": "execute_result"
    }
   ],
   "source": [
    "date_str = '2025-02-01'\n",
    "date_obj = datetime.strptime(date_str, '%Y-%m-%d').date()\n",
    "ut.get_final_expiration_date(date_obj, months_out=2)"
   ]
  },
  {
   "cell_type": "code",
   "execution_count": 7,
   "id": "7db0392c-ea97-402f-ad23-0b2bff78b320",
   "metadata": {},
   "outputs": [
    {
     "data": {
      "text/plain": [
       "False"
      ]
     },
     "execution_count": 7,
     "metadata": {},
     "output_type": "execute_result"
    }
   ],
   "source": [
    "import holidays\n",
    "us_holidays = holidays.US() \n",
    "date_obj in us_holidays"
   ]
  },
  {
   "cell_type": "code",
   "execution_count": 12,
   "id": "28e0b312-0914-41d3-87b9-a6828ad623e5",
   "metadata": {},
   "outputs": [
    {
     "data": {
      "text/plain": [
       "{datetime.date(2025, 1, 1): \"New Year's Day\", datetime.date(2025, 1, 20): 'Martin Luther King Jr. Day', datetime.date(2025, 2, 17): \"Washington's Birthday\", datetime.date(2025, 4, 18): 'Good Friday', datetime.date(2025, 5, 26): 'Memorial Day', datetime.date(2025, 6, 19): 'Juneteenth National Independence Day', datetime.date(2025, 7, 4): 'Independence Day', datetime.date(2025, 9, 1): 'Labor Day', datetime.date(2025, 11, 27): 'Thanksgiving Day', datetime.date(2025, 12, 25): 'Christmas Day'}"
      ]
     },
     "execution_count": 12,
     "metadata": {},
     "output_type": "execute_result"
    }
   ],
   "source": [
    "us_holidays.keys()\n",
    "holidays.financial_holidays(\"NYSE\", years=date_obj.year)"
   ]
  },
  {
   "cell_type": "code",
   "execution_count": null,
   "id": "c76eea6b-86f7-4564-9372-1dbac179f9c5",
   "metadata": {},
   "outputs": [],
   "source": []
  }
 ],
 "metadata": {
  "kernelspec": {
   "display_name": "Python 3 (ipykernel)",
   "language": "python",
   "name": "python3"
  },
  "language_info": {
   "codemirror_mode": {
    "name": "ipython",
    "version": 3
   },
   "file_extension": ".py",
   "mimetype": "text/x-python",
   "name": "python",
   "nbconvert_exporter": "python",
   "pygments_lexer": "ipython3",
   "version": "3.11.7"
  }
 },
 "nbformat": 4,
 "nbformat_minor": 5
}
